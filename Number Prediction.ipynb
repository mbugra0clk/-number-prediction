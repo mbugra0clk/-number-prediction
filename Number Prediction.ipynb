{
 "cells": [
  {
   "cell_type": "markdown",
   "id": "7eb8d0f1-aa89-4409-887c-cea5ea60d220",
   "metadata": {},
   "source": [
    "number prediction"
   ]
  },
  {
   "cell_type": "code",
   "execution_count": null,
   "id": "82d2752f-5c82-47b6-b03e-4b2aa2d44fc3",
   "metadata": {},
   "outputs": [
    {
     "name": "stdin",
     "output_type": "stream",
     "text": [
      "1 ile 99 arasında değer girin (0 çıkış): 50\n"
     ]
    },
    {
     "name": "stdout",
     "output_type": "stream",
     "text": [
      "Daha Yüksek Bir Sayı Girin.\n"
     ]
    },
    {
     "name": "stdin",
     "output_type": "stream",
     "text": [
      "1 ile 99 arasında değer girin (0 çıkış): 55\n"
     ]
    },
    {
     "name": "stdout",
     "output_type": "stream",
     "text": [
      "Daha Yüksek Bir Sayı Girin.\n"
     ]
    },
    {
     "name": "stdin",
     "output_type": "stream",
     "text": [
      "1 ile 99 arasında değer girin (0 çıkış): 75\n"
     ]
    },
    {
     "name": "stdout",
     "output_type": "stream",
     "text": [
      "Daha Yüksek Bir Sayı Girin.\n"
     ]
    },
    {
     "name": "stdin",
     "output_type": "stream",
     "text": [
      "1 ile 99 arasında değer girin (0 çıkış): 85\n"
     ]
    },
    {
     "name": "stdout",
     "output_type": "stream",
     "text": [
      "Daha Düşük Bir Sayı Girin.\n"
     ]
    },
    {
     "name": "stdin",
     "output_type": "stream",
     "text": [
      "1 ile 99 arasında değer girin (0 çıkış): 80\n"
     ]
    },
    {
     "name": "stdout",
     "output_type": "stream",
     "text": [
      "Daha Yüksek Bir Sayı Girin.\n"
     ]
    },
    {
     "name": "stdin",
     "output_type": "stream",
     "text": [
      "1 ile 99 arasında değer girin (0 çıkış): 82\n"
     ]
    },
    {
     "name": "stdout",
     "output_type": "stream",
     "text": [
      "Daha Yüksek Bir Sayı Girin.\n"
     ]
    },
    {
     "name": "stdin",
     "output_type": "stream",
     "text": [
      "1 ile 99 arasında değer girin (0 çıkış): 83\n"
     ]
    },
    {
     "name": "stdout",
     "output_type": "stream",
     "text": [
      "Daha Yüksek Bir Sayı Girin.\n"
     ]
    },
    {
     "name": "stdin",
     "output_type": "stream",
     "text": [
      "1 ile 99 arasında değer girin (0 çıkış): 84\n"
     ]
    },
    {
     "name": "stdout",
     "output_type": "stream",
     "text": [
      "Rastele seçilen sayı 84!\n",
      "Tahmin sayınız 8\n"
     ]
    }
   ],
   "source": [
    "from random import randint\n",
    "rand = randint(1, 99)\n",
    "sayac = 0\n",
    " \n",
    "while True:\n",
    "    sayac += 1\n",
    "    sayi = int(input(\"1 ile 99 arasında değer girin (0 çıkış):\"))\n",
    "    if(sayi == 0):\n",
    "        print(\"Oyunu İptal Ettiniz\")\n",
    "        break\n",
    "    elif sayi < rand:\n",
    "        print(\"Daha Yüksek Bir Sayı Girin.\")\n",
    "        continue\n",
    "    elif sayi > rand:\n",
    "        print(\"Daha Düşük Bir Sayı Girin.\")\n",
    "        continue\n",
    "    else:\n",
    "        print(\"Rastele seçilen sayı {0}!\".format(rand)) #format expression was used\n",
    "        print(\"Tahmin sayınız {0}\".format(sayac))"
   ]
  }
 ],
 "metadata": {
  "kernelspec": {
   "display_name": "Python 3 (ipykernel)",
   "language": "python",
   "name": "python3"
  },
  "language_info": {
   "codemirror_mode": {
    "name": "ipython",
    "version": 3
   },
   "file_extension": ".py",
   "mimetype": "text/x-python",
   "name": "python",
   "nbconvert_exporter": "python",
   "pygments_lexer": "ipython3",
   "version": "3.11.7"
  }
 },
 "nbformat": 4,
 "nbformat_minor": 5
}
